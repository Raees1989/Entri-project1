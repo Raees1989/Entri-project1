{
 "cells": [
  {
   "cell_type": "code",
   "execution_count": null,
   "id": "f7f72cf6-9779-47fe-b545-ca896d4a38b9",
   "metadata": {},
   "outputs": [
    {
     "name": "stdin",
     "output_type": "stream",
     "text": [
      "Enter account number:  12345\n",
      "Set PIN:  22255\n",
      "Enter account number:  12345\n",
      "Enter PIN:  22255\n"
     ]
    },
    {
     "name": "stdout",
     "output_type": "stream",
     "text": [
      "Login successful!\n",
      "\n",
      "Choose an option:\n",
      "1. Deposit\n",
      "2. Withdraw\n",
      "3. Check Balance\n",
      "4. Exit\n"
     ]
    },
    {
     "name": "stdin",
     "output_type": "stream",
     "text": [
      "Enter choice (1/2/3/4):  1\n",
      "Enter amount to deposit:  100\n"
     ]
    },
    {
     "name": "stdout",
     "output_type": "stream",
     "text": [
      "Deposit of $100.0 successful.\n",
      "Current Balance: $100.0\n",
      "\n",
      "Choose an option:\n",
      "1. Deposit\n",
      "2. Withdraw\n",
      "3. Check Balance\n",
      "4. Exit\n"
     ]
    },
    {
     "name": "stdin",
     "output_type": "stream",
     "text": [
      "Enter choice (1/2/3/4):  2\n",
      "Enter amount to withdraw:  25\n"
     ]
    },
    {
     "name": "stdout",
     "output_type": "stream",
     "text": [
      "Withdrawal of $25.0 successful.\n",
      "Current Balance: $75.0\n",
      "\n",
      "Choose an option:\n",
      "1. Deposit\n",
      "2. Withdraw\n",
      "3. Check Balance\n",
      "4. Exit\n"
     ]
    },
    {
     "name": "stdin",
     "output_type": "stream",
     "text": [
      "Enter choice (1/2/3/4):  3\n"
     ]
    },
    {
     "name": "stdout",
     "output_type": "stream",
     "text": [
      "Current Balance: $75.0\n",
      "\n",
      "Choose an option:\n",
      "1. Deposit\n",
      "2. Withdraw\n",
      "3. Check Balance\n",
      "4. Exit\n"
     ]
    }
   ],
   "source": [
    "class BankAccount:\n",
    "    def __init__(self, account_number, pin, balance=0):\n",
    "        self.account_number = account_number\n",
    "        self.pin = pin\n",
    "        self.balance = balance\n",
    "\n",
    "    def login(self, account_number, pin):\n",
    "        if self.account_number == account_number and self.pin == pin:\n",
    "            print(\"Login successful!\")\n",
    "            return True\n",
    "        else:\n",
    "            print(\"Invalid account number or PIN. Please try again.\")\n",
    "            return False\n",
    "\n",
    "    def deposit(self, amount):\n",
    "        if amount > 0:\n",
    "            self.balance += amount\n",
    "            print(f\"Deposit of ${amount} successful.\")\n",
    "            self.display_balance()\n",
    "        else:\n",
    "            print(\"Invalid amount. Please enter a positive amount.\")\n",
    "\n",
    "    def withdraw(self, amount):\n",
    "        if amount > 0:\n",
    "            if self.balance >= amount:\n",
    "                self.balance -= amount\n",
    "                print(f\"Withdrawal of ${amount} successful.\")\n",
    "                self.display_balance()\n",
    "            else:\n",
    "                print(\"Insufficient funds.\")\n",
    "        else:\n",
    "            print(\"Invalid amount. Please enter a positive amount.\")\n",
    "\n",
    "    def display_balance(self):\n",
    "        print(f\"Current Balance: ${self.balance}\")\n",
    "\n",
    "\n",
    "def main():\n",
    "    # account creation\n",
    "    account_number = input(\"Enter account number: \")\n",
    "    pin = input(\"Set PIN: \")\n",
    "    account = BankAccount(account_number, pin)\n",
    "\n",
    "    # account login\n",
    "    login_attempts = 0\n",
    "    while login_attempts < 3:\n",
    "        entered_account_number = input(\"Enter account number: \")\n",
    "        entered_pin = input(\"Enter PIN: \")\n",
    "        if account.login(entered_account_number, entered_pin):\n",
    "            break\n",
    "        else:\n",
    "            login_attempts += 1\n",
    "    else:\n",
    "        print(\"Maximum login attempts reached. Exiting program.\")\n",
    "        return\n",
    "\n",
    "    while True:\n",
    "        print(\"\\nChoose an option:\")\n",
    "        print(\"1. Deposit\")\n",
    "        print(\"2. Withdraw\")\n",
    "        print(\"3. Check Balance\")\n",
    "        print(\"4. Exit\")\n",
    "        choice = input(\"Enter choice (1/2/3/4): \")\n",
    "\n",
    "        if choice == '1':\n",
    "            amount = float(input(\"Enter amount to deposit: \"))\n",
    "            account.deposit(amount)\n",
    "        elif choice == '2':\n",
    "            amount = float(input(\"Enter amount to withdraw: \"))\n",
    "            account.withdraw(amount)\n",
    "        elif choice == '3':\n",
    "            account.display_balance()\n",
    "        elif choice == '4':\n",
    "            print(\"Thank you for banking with us. Goodbye!\")\n",
    "            break\n",
    "        else:\n",
    "            print(\"Invalid choice. Please enter 1, 2, 3, or 4.\")\n",
    "\n",
    "\n",
    "if __name__ == \"__main__\":\n",
    "    main()\n"
   ]
  },
  {
   "cell_type": "code",
   "execution_count": null,
   "id": "dfe99fce-649c-4904-8544-687c3dbbdc3f",
   "metadata": {},
   "outputs": [],
   "source": []
  }
 ],
 "metadata": {
  "kernelspec": {
   "display_name": "Python 3 (ipykernel)",
   "language": "python",
   "name": "python3"
  },
  "language_info": {
   "codemirror_mode": {
    "name": "ipython",
    "version": 3
   },
   "file_extension": ".py",
   "mimetype": "text/x-python",
   "name": "python",
   "nbconvert_exporter": "python",
   "pygments_lexer": "ipython3",
   "version": "3.11.7"
  }
 },
 "nbformat": 4,
 "nbformat_minor": 5
}
